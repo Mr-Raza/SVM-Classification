{
 "cells": [
  {
   "cell_type": "code",
   "execution_count": 1,
   "metadata": {},
   "outputs": [],
   "source": [
    "import pandas as pd\n",
    "import numpy as np\n",
    "import warnings\n",
    "warnings.filterwarnings('ignore')"
   ]
  },
  {
   "cell_type": "code",
   "execution_count": 2,
   "metadata": {},
   "outputs": [],
   "source": [
    "df=pd.read_csv('bank.csv')\n",
    "#df.head(100)\n",
    "#df.dtypes"
   ]
  },
  {
   "cell_type": "code",
   "execution_count": 3,
   "metadata": {},
   "outputs": [],
   "source": [
    "df_C=df.select_dtypes(include='object')"
   ]
  },
  {
   "cell_type": "code",
   "execution_count": 4,
   "metadata": {},
   "outputs": [],
   "source": [
    "rep={'default':{'yes':1,'no':0},'housing':{'yes':1,'no':0},'loan':{'yes':1,'no':0},'y':{'yes':1,'no':0},'month':{'may':5,\n",
    "'jul':  7,\n",
    "'aug':  8,\n",
    "'jun':  6,\n",
    "'nov':  11,\n",
    "'apr':  4,\n",
    "'feb': 2,\n",
    "'jan':  1,\n",
    "'oct':   10,\n",
    "'sep':   9,\n",
    "'mar':  3,\n",
    "'dec':12}}\n",
    "df_C=df_C.replace(rep)\n",
    "df_C1=df_C.select_dtypes(exclude='object')\n",
    "df_C2=df_C.select_dtypes(include='object')"
   ]
  },
  {
   "cell_type": "code",
   "execution_count": 5,
   "metadata": {},
   "outputs": [],
   "source": [
    "df_C2=pd.get_dummies(df_C2, columns=[\"marital\",\"education\",\"contact\",\"poutcome\",\"job\"], prefix=[\"M\",\"E\",\"C\",\"P\",\"J\"])"
   ]
  },
  {
   "cell_type": "code",
   "execution_count": 6,
   "metadata": {},
   "outputs": [],
   "source": [
    "C=pd.merge(df_C1,df_C2,left_index=True,right_index=True)"
   ]
  },
  {
   "cell_type": "code",
   "execution_count": 7,
   "metadata": {},
   "outputs": [],
   "source": [
    "df_N=df.select_dtypes(exclude='object')"
   ]
  },
  {
   "cell_type": "code",
   "execution_count": 8,
   "metadata": {},
   "outputs": [],
   "source": [
    "df_F=pd.merge(df_N,C,left_index=True,right_index=True)"
   ]
  },
  {
   "cell_type": "code",
   "execution_count": 9,
   "metadata": {},
   "outputs": [],
   "source": [
    "X=df_F.drop('y',axis=1)\n",
    "y=df_F.y"
   ]
  },
  {
   "cell_type": "code",
   "execution_count": 10,
   "metadata": {},
   "outputs": [],
   "source": [
    "from sklearn.model_selection import train_test_split\n",
    "X_train, X_test, y_train, y_test=train_test_split(X,y, random_state=42,test_size=.20 )"
   ]
  },
  {
   "cell_type": "code",
   "execution_count": 11,
   "metadata": {},
   "outputs": [],
   "source": [
    "X_train.drop_duplicates(inplace=True)\n",
    "X_train.dropna(inplace=True)\n",
    "X_train_Name=X_train.columns"
   ]
  },
  {
   "cell_type": "code",
   "execution_count": 12,
   "metadata": {},
   "outputs": [],
   "source": [
    "from sklearn.preprocessing import MinMaxScaler\n",
    "normal=MinMaxScaler()\n",
    "X_train_N=pd.DataFrame(normal.fit_transform(X_train))\n",
    "X_test_N=pd.DataFrame(normal.fit_transform(X_test))\n",
    "X_train_N.columns=X_train_Name\n",
    "X_test_N.columns=X_train_Name"
   ]
  },
  {
   "cell_type": "code",
   "execution_count": 13,
   "metadata": {},
   "outputs": [
    {
     "data": {
      "text/plain": [
       "ExtraTreesClassifier()"
      ]
     },
     "execution_count": 13,
     "metadata": {},
     "output_type": "execute_result"
    }
   ],
   "source": [
    "from sklearn.ensemble import ExtraTreesClassifier\n",
    "import matplotlib.pyplot as plt\n",
    "model=ExtraTreesClassifier()\n",
    "model.fit(X_train_N,y_train)"
   ]
  },
  {
   "cell_type": "code",
   "execution_count": 14,
   "metadata": {},
   "outputs": [],
   "source": [
    "fi=pd.Series(model.feature_importances_,index=X_train_N.columns)\n",
    "#fi.nlargest(10).plot(kind='barh')\n",
    "#plt.show()"
   ]
  },
  {
   "cell_type": "code",
   "execution_count": 15,
   "metadata": {},
   "outputs": [],
   "source": [
    "X_train_N=X_train_N[X_train_N.columns[X_train_N.columns.isin(['previous','housing','pdays',\n",
    "                               'P_success','campaign','month','day','balance','age','duration'])]]  \n",
    "\n",
    "X_test_N=X_test_N[X_test_N.columns[X_test_N.columns.isin(['previous','housing','pdays',\n",
    "                               'P_success','campaign','month','day','balance','age','duration'])]] "
   ]
  },
  {
   "cell_type": "code",
   "execution_count": 16,
   "metadata": {},
   "outputs": [],
   "source": [
    "from sklearn import svm\n",
    "clf=svm.SVC(kernel='rbf',gamma='auto')\n",
    "clf.fit(X_train_N,y_train)\n",
    "y_pre=clf.predict(X_test_N)\n",
    "from sklearn.metrics import classification_report\n",
    "#print(classification_report(y_test,y_pre))"
   ]
  },
  {
   "cell_type": "code",
   "execution_count": 17,
   "metadata": {},
   "outputs": [],
   "source": [
    "from imblearn.combine import SMOTETomek\n",
    "smt = SMOTETomek(random_state=42)\n",
    "X_train_smt, y_train_smt = smt.fit_resample(X_train_N, y_train)"
   ]
  },
  {
   "cell_type": "code",
   "execution_count": 18,
   "metadata": {},
   "outputs": [],
   "source": [
    "clf1=svm.SVC(kernel='rbf', gamma='auto', C=1)\n",
    "clf1.fit(X_train_smt,y_train_smt)\n",
    "y_pre_smt=clf1.predict(X_test_N)\n",
    "#print(classification_report(y_test,y_pre_smt))"
   ]
  }
 ],
 "metadata": {
  "kernelspec": {
   "display_name": "Python 3",
   "language": "python",
   "name": "python3"
  },
  "language_info": {
   "codemirror_mode": {
    "name": "ipython",
    "version": 3
   },
   "file_extension": ".py",
   "mimetype": "text/x-python",
   "name": "python",
   "nbconvert_exporter": "python",
   "pygments_lexer": "ipython3",
   "version": "3.6.10"
  }
 },
 "nbformat": 4,
 "nbformat_minor": 4
}
